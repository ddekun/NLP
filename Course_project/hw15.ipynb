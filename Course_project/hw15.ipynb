{
  "cells": [
    {
      "cell_type": "markdown",
      "metadata": {
        "id": "view-in-github",
        "colab_type": "text"
      },
      "source": [
        "<a href=\"https://colab.research.google.com/github/ddekun/NLP/blob/Course_project/Course_project/hw15.ipynb\" target=\"_parent\"><img src=\"https://colab.research.google.com/assets/colab-badge.svg\" alt=\"Open In Colab\"/></a>"
      ]
    },
    {
      "cell_type": "markdown",
      "metadata": {
        "id": "TqGYNFvE7oE8"
      },
      "source": [
        "# Курсовой проект «Введение в обработку естественного языка»"
      ]
    },
    {
      "cell_type": "markdown",
      "metadata": {
        "id": "SOXCG9jr71LP"
      },
      "source": [
        "**Задание:**\n",
        "\n",
        "Реализовать чат-бот на базе API Telegram.\n",
        "\n",
        "**Интенты:**\n",
        "\n",
        "1. болталка (разговорная часть): используются вопросы-ответы mail.ru,\n",
        "2. суммаризация: используется предобученная модель - csebuetnlp/mT5_multilingual_XLSum\n",
        "3. продуктовая часть: используются данные с youla.ru.\n",
        "\n",
        "**Технологии:**\n",
        "\n",
        "ML: CountVectorizer, TfidfVectorizer, FastText, MorphAnalyzer, dialogflow, LogisticRegression, annoy,\n",
        "API: telegram\n",
        "\n",
        "\n",
        "**Алгоритм работы чат-бота:**\n",
        "\n",
        "При поступлении текстового запроса модель должна определить интент к которому относится запрос:\n",
        "\n",
        "* болталка (вопрос/ответ)\n",
        "* суммаризация\n",
        "* поиск продукта\n",
        "\n",
        "1. Если запрос \"разговорный\", используя TfidfVectorizer, FastText, annoy определяется наиболее подходящий ответ.\n",
        "\n",
        "2. Если интент \"cуммаризация\", то используется предобученная модель csebuetnlp/mT5_multilingual_XLSum. Суммаризация должна начинаться с ключевого слова \"Summarization:\".\n",
        "\n",
        "3. Если запрос \"продуктовый\", используя TfidfVectorizer, FastText, annoy (быстрый поиск ближайших соседей). Определяются N наиболее похожих продукта, которые возвращяются в чат.\n",
        "\n",
        "4. Если в разговорном и продуктовом запросе найденный ответ слабо соответствует запросу, чат-бот должен ответить \"Не понимаю запрос. Сформулируйте запрос более корректно.\".``"
      ]
    },
    {
      "cell_type": "markdown",
      "metadata": {
        "id": "_Qp7gtRHAny4"
      },
      "source": [
        "## 1. Установка библиотек и подготовка данных."
      ]
    },
    {
      "cell_type": "code",
      "execution_count": null,
      "metadata": {
        "id": "ncTPxlss2iV_"
      },
      "outputs": [],
      "source": [
        "!pip install telegram --quiet\n",
        "!pip install python-telegram-bot --quiet\n",
        "!pip install pymorphy2 --quiet\n",
        "!pip install stop_words --quiet\n",
        "!pip install annoy --quiet\n",
        "!pip install transformers sentencepiece --quiet\n",
        "\n",
        "# !pip3 uninstall python-telegram-bot\n",
        "\n",
        "!pip3 install python-telegram-bot"
      ]
    },
    {
      "cell_type": "code",
      "execution_count": null,
      "metadata": {
        "id": "xAhRcgdAVJzn"
      },
      "outputs": [],
      "source": [
        "import os\n",
        "from telegram.ext import Updater, CommandHandler, MessageHandler, Filters, CallbackContext\n",
        "import string\n",
        "from pymorphy2 import MorphAnalyzer\n",
        "from stop_words import get_stop_words\n",
        "import annoy\n",
        "from gensim.models import Word2Vec, FastText\n",
        "import pickle\n",
        "import numpy as np\n",
        "from tqdm import tqdm_notebook\n",
        "import pandas as pd\n",
        "import re"
      ]
    },
    {
      "cell_type": "code",
      "execution_count": null,
      "metadata": {
        "id": "EpXxM53b2eQC"
      },
      "outputs": [],
      "source": [
        "from google.colab import drive\n",
        "drive.mount('/content/drive')"
      ]
    },
    {
      "cell_type": "code",
      "execution_count": null,
      "metadata": {
        "id": "eowU0BDf4BO6"
      },
      "outputs": [],
      "source": [
        "!unzip \"/content/drive/MyDrive/06_lang/course_proj/Misis.Ida.zip\""
      ]
    },
    {
      "cell_type": "markdown",
      "metadata": {
        "id": "C2UuhHQoATsM"
      },
      "source": [
        "## 2.Обучение разговорной модели"
      ]
    },
    {
      "cell_type": "code",
      "execution_count": null,
      "metadata": {
        "id": "JBnSQav-VJz6"
      },
      "outputs": [],
      "source": [
        "%%time\n",
        "# работает быстро\n",
        "\n",
        "assert True\n",
        "\n",
        "#Small preprocess of the answers\n",
        "\n",
        "question = None\n",
        "written = False\n",
        "\n",
        "c=0\n",
        "\n",
        "# Идем по всем записям, берем строку как вопрос и после знака \"---\" находим ответ\n",
        "with open(\"prepared_answers.txt\", \"w\") as fout:\n",
        "    with open(\"Misis. Ida/Otvety.txt\", \"r\") as fin:\n",
        "        for line in tqdm_notebook(fin):\n",
        "            if line.startswith(\"---\"):\n",
        "                written = False\n",
        "                continue\n",
        "            if not written and question is not None:\n",
        "                fout.write(question.replace(\"\\t\", \" \").strip() + \"\\t\" + line.replace(\"\\t\", \" \"))\n",
        "                written = True\n",
        "                question = None\n",
        "                continue\n",
        "            if not written:\n",
        "                question = line.strip()\n",
        "                continue"
      ]
    },
    {
      "cell_type": "markdown",
      "metadata": {
        "id": "sm8UiYzzAN0o"
      },
      "source": [
        "### Предобработка текста"
      ]
    },
    {
      "cell_type": "code",
      "execution_count": null,
      "metadata": {
        "id": "qNovia_FVJz7"
      },
      "outputs": [],
      "source": [
        "def preprocess_txt(line):\n",
        "    spls = \"\".join(i for i in line.strip() if i not in exclude).split()\n",
        "    spls = [morpher.parse(i.lower())[0].normal_form for i in spls]\n",
        "    spls = [i for i in spls if i not in sw and i != \"\"]\n",
        "    return spls"
      ]
    },
    {
      "cell_type": "code",
      "execution_count": null,
      "metadata": {
        "id": "JiUEyF2laVIQ"
      },
      "outputs": [],
      "source": [
        "morpher = MorphAnalyzer()\n",
        "sw = set(get_stop_words(\"ru\"))\n",
        "exclude = set(string.punctuation)"
      ]
    },
    {
      "cell_type": "code",
      "execution_count": null,
      "metadata": {
        "id": "uvwpdubYVJz8"
      },
      "outputs": [],
      "source": [
        "assert True\n",
        "\n",
        "# Preprocess for models fitting\n",
        "\n",
        "sentences = []\n",
        "c = 0\n",
        "\n",
        "with open(\"Misis. Ida/Otvety.txt\", \"r\") as fin:\n",
        "    for line in tqdm_notebook(fin):\n",
        "        spls = preprocess_txt(line)\n",
        "        sentences.append(spls)\n",
        "        c += 1\n",
        "        if c > 500000:\n",
        "            break"
      ]
    },
    {
      "cell_type": "code",
      "execution_count": null,
      "metadata": {
        "id": "zwXvXkJBVJ0B"
      },
      "outputs": [],
      "source": [
        "sentences = [i for i in sentences if len(i) > 2]\n",
        "\n",
        "# записываем сериализованный объект в файл\n",
        "with open(f'sentences.pkl', 'wb') as f:\n",
        "    pickle.dump(sentences, f)"
      ]
    },
    {
      "cell_type": "code",
      "execution_count": null,
      "metadata": {
        "id": "uwfGgvfXLvOi"
      },
      "outputs": [],
      "source": [
        "# # загружаем объект из файла\n",
        "# with open(f'sentences.pkl', 'rb') as f:\n",
        "#     sentences = pickle.load(f)"
      ]
    },
    {
      "cell_type": "code",
      "execution_count": null,
      "metadata": {
        "id": "wn8UbmPwNGq4"
      },
      "outputs": [],
      "source": [
        "# загружаем объект из файла\n",
        "with open(f'/content/drive/MyDrive/06_lang/course_proj/sentences.pkl', 'rb') as f:\n",
        "    sentences = pickle.load(f)"
      ]
    },
    {
      "cell_type": "markdown",
      "metadata": {
        "id": "sjmXcBSbTW_2"
      },
      "source": [
        "### Обучение модели TF-IDF"
      ]
    },
    {
      "cell_type": "code",
      "execution_count": null,
      "metadata": {
        "id": "Izncb982TnnM"
      },
      "outputs": [],
      "source": [
        "# Функция-пустышка, для возможности передать в TfidfVectorizer список уже готовых токенов, а не текст\n",
        "def simple_tokenizer(x):\n",
        "    return x"
      ]
    },
    {
      "cell_type": "code",
      "execution_count": null,
      "metadata": {
        "id": "S3tTE5lATqW0"
      },
      "outputs": [],
      "source": [
        "from sklearn.feature_extraction.text import TfidfVectorizer"
      ]
    },
    {
      "cell_type": "code",
      "execution_count": null,
      "metadata": {
        "colab": {
          "base_uri": "https://localhost:8080/"
        },
        "id": "jSDT-a5ZTUhF",
        "outputId": "4f635095-19d7-434b-cf16-7a4cbb907729"
      },
      "outputs": [
        {
          "name": "stdout",
          "output_type": "stream",
          "text": [
            "CPU times: user 8.34 s, sys: 184 ms, total: 8.53 s\n",
            "Wall time: 8.63 s\n"
          ]
        }
      ],
      "source": [
        "%%time\n",
        "tfidf_vectorizer = TfidfVectorizer(tokenizer=simple_tokenizer, lowercase=False, min_df=2)\n",
        "tfidf_vectorizer.fit_transform(sentences)\n",
        "\n",
        "idfs = {v[0]: v[1] for v in zip(tfidf_vectorizer.vocabulary_, tfidf_vectorizer.idf_)}\n",
        "midf = np.mean(tfidf_vectorizer.idf_)\n",
        "\n",
        "with open(f'idfs.pkl', 'wb') as f:\n",
        "    pickle.dump(idfs, f)  # записывает сериализованный объект в файл.\n",
        "\n",
        "with open(f'midf.pkl', 'wb') as f:\n",
        "    pickle.dump(midf, f)  # записывает сериализованный объект в файл."
      ]
    },
    {
      "cell_type": "code",
      "execution_count": null,
      "metadata": {
        "id": "XCkADPdATylB"
      },
      "outputs": [],
      "source": [
        "with open(f'idfs.pkl', 'rb') as f:\n",
        "    idfs = pickle.load(f)  # загружает объект из файла"
      ]
    },
    {
      "cell_type": "code",
      "execution_count": null,
      "metadata": {
        "id": "BT6MsemsT22L"
      },
      "outputs": [],
      "source": [
        "with open(f'midf.pkl', 'rb') as f:\n",
        "    midf = pickle.load(f)  # загружает объект из файла"
      ]
    },
    {
      "cell_type": "markdown",
      "metadata": {
        "id": "myJl5Y3uML_N"
      },
      "source": [
        "### Обучение модели FastText"
      ]
    },
    {
      "cell_type": "code",
      "execution_count": null,
      "metadata": {
        "id": "foybRNq_Q3MO"
      },
      "outputs": [],
      "source": [
        "SIZE_EMB = 200  # Размер эмбеддинга"
      ]
    },
    {
      "cell_type": "code",
      "execution_count": null,
      "metadata": {
        "id": "dGT4F6Zp6NBp"
      },
      "outputs": [],
      "source": [
        "def embed_txt(txt, idfs, model, midf):\n",
        "    n_ft = 0\n",
        "    vector_ft = np.zeros(SIZE_EMB)\n",
        "    for word in txt:\n",
        "        if word in model:\n",
        "            vector_ft += model[word] * idfs.get(word, midf)\n",
        "            n_ft += idfs.get(word, midf)\n",
        "    if n_ft > 0:\n",
        "        vector_ft = vector_ft / n_ft\n",
        "\n",
        "    return vector_ft"
      ]
    },
    {
      "cell_type": "code",
      "execution_count": null,
      "metadata": {
        "colab": {
          "base_uri": "https://localhost:8080/"
        },
        "id": "fNN6Ir1_QzoT",
        "outputId": "3ce9cf47-bc8c-4160-8c46-e90d63365e70"
      },
      "outputs": [
        {
          "name": "stdout",
          "output_type": "stream",
          "text": [
            "CPU times: user 12min 30s, sys: 7.36 s, total: 12min 37s\n",
            "Wall time: 7min 9s\n"
          ]
        }
      ],
      "source": [
        "%%time\n",
        "modelFT = FastText(sentences=sentences, size=SIZE_EMB, min_count=2, window=5, workers=8, seed=34)\n",
        "modelFT.save(\"ft_model\")"
      ]
    },
    {
      "cell_type": "code",
      "execution_count": null,
      "metadata": {
        "colab": {
          "base_uri": "https://localhost:8080/",
          "height": 188,
          "referenced_widgets": [
            "8f43399809e54ba2b55e25f94f1a9745",
            "bf1b5dfe66ec4419915d263cc43fa239",
            "4e46fd1c414041bda6cd046816384fe9",
            "558a614042eb47a19477233a96e29a86",
            "9ddc46c992414e72a001da633d782f81",
            "ba9c64a664a8412d8dcb714d0da885f5",
            "b7ca9ee6f62f4c79b897ed33a2587e28",
            "9db0340682d04657b127c039ba8dddd5",
            "69cd4e728403454e9a9024b6059ca25f",
            "c7f4785925f6441bbc54c688946590b6",
            "687dda1c265c4866ae4dd046e514ff0e"
          ]
        },
        "id": "wPgGv9CgVJ0D",
        "outputId": "8cf61f00-bf04-41dd-9375-effe3bc53583"
      },
      "outputs": [
        {
          "name": "stderr",
          "output_type": "stream",
          "text": [
            "/usr/local/lib/python3.7/dist-packages/ipykernel_launcher.py:8: TqdmDeprecationWarning: This function will be removed in tqdm==5.0.0\n",
            "Please use `tqdm.notebook.tqdm` instead of `tqdm.tqdm_notebook`\n",
            "  \n"
          ]
        },
        {
          "data": {
            "application/vnd.jupyter.widget-view+json": {
              "model_id": "8f43399809e54ba2b55e25f94f1a9745",
              "version_major": 2,
              "version_minor": 0
            },
            "text/plain": [
              "0it [00:00, ?it/s]"
            ]
          },
          "metadata": {},
          "output_type": "display_data"
        },
        {
          "name": "stderr",
          "output_type": "stream",
          "text": [
            "/usr/local/lib/python3.7/dist-packages/ipykernel_launcher.py:16: DeprecationWarning: Call to deprecated `__contains__` (Method will be removed in 4.0.0, use self.wv.__contains__() instead).\n",
            "  app.launch_new_instance()\n",
            "/usr/local/lib/python3.7/dist-packages/ipykernel_launcher.py:17: DeprecationWarning: Call to deprecated `__getitem__` (Method will be removed in 4.0.0, use self.wv.__getitem__() instead).\n"
          ]
        },
        {
          "name": "stdout",
          "output_type": "stream",
          "text": [
            "CPU times: user 1h 14min 49s, sys: 1min 6s, total: 1h 15min 55s\n",
            "Wall time: 1h 15min 8s\n"
          ]
        }
      ],
      "source": [
        "%%time\n",
        "\n",
        "modelFT = FastText.load(\"ft_model\")\n",
        "ft_index = annoy.AnnoyIndex(SIZE_EMB ,'angular')\n",
        "\n",
        "index_map = {}\n",
        "counter = 0\n",
        "\n",
        "with open(\"prepared_answers.txt\", \"r\") as f:\n",
        "    for line in tqdm_notebook(f):\n",
        "        n_ft = 0\n",
        "        spls = line.split(\"\\t\")\n",
        "        index_map[counter] = re.sub(r'\\<[^>]*\\>', '', spls[1]) # Удалим html-тэги\n",
        "        question = preprocess_txt(spls[0])\n",
        "        vector_ft = np.zeros(SIZE_EMB)\n",
        "\n",
        "        for word in question:\n",
        "            if word in modelFT:\n",
        "                vector_ft += modelFT[word]\n",
        "                # n_ft += 1\n",
        "                n_ft += idfs.get(word, midf)\n",
        "\n",
        "        if n_ft > 0:\n",
        "            vector_ft = vector_ft / n_ft\n",
        "        ft_index.add_item(counter, vector_ft)\n",
        "\n",
        "        counter += 1\n",
        "        if counter > 1000000:\n",
        "            break\n",
        "\n",
        "ft_index.build(10)\n",
        "ft_index.save('ft_index.ann')\n",
        "\n",
        "# Сохраняем индекс вопросов из болталки\n",
        "with open(f'index_map.pkl', 'wb') as f:   # Save it for future use\n",
        "    pickle.dump(index_map, f)  # записывает сериализованный объект в файл"
      ]
    },
    {
      "cell_type": "code",
      "execution_count": null,
      "metadata": {
        "colab": {
          "base_uri": "https://localhost:8080/"
        },
        "id": "d8wY3CzVSjpV",
        "outputId": "3a4b61de-b12b-4b99-ffe3-74e31c06a1b2"
      },
      "outputs": [
        {
          "data": {
            "text/plain": [
              "True"
            ]
          },
          "execution_count": 23,
          "metadata": {},
          "output_type": "execute_result"
        }
      ],
      "source": [
        "ft_index = annoy.AnnoyIndex(SIZE_EMB, 'angular')  # Создание Annoy индекса\n",
        "ft_index.load(f'ft_index.ann')  # загружает"
      ]
    },
    {
      "cell_type": "code",
      "execution_count": null,
      "metadata": {
        "colab": {
          "base_uri": "https://localhost:8080/"
        },
        "id": "_k77TlHRJjQF",
        "outputId": "07a5ebdf-7478-42ff-c5d1-b1d1e9b8c4ed"
      },
      "outputs": [
        {
          "data": {
            "text/plain": [
              "True"
            ]
          },
          "execution_count": 20,
          "metadata": {},
          "output_type": "execute_result"
        }
      ],
      "source": [
        "ft_index = annoy.AnnoyIndex(SIZE_EMB, 'angular')  # Создание Annoy индекса\n",
        "ft_index.load(f'/content/drive/MyDrive/06_lang/course_proj/ft_index.ann')  # загружает"
      ]
    },
    {
      "cell_type": "code",
      "execution_count": null,
      "metadata": {
        "id": "gU2zAfPHbPhi"
      },
      "outputs": [],
      "source": [
        "# with open(f'index_map.pkl', 'rb') as f:\n",
        "#     index_map = pickle.load(f)  # загружает объект из файла"
      ]
    },
    {
      "cell_type": "code",
      "execution_count": null,
      "metadata": {
        "id": "ROw_oEMLJ5DE"
      },
      "outputs": [],
      "source": [
        "\n",
        "with open(f'/content/drive/MyDrive/06_lang/course_proj/index_map.pkl', 'rb') as f:\n",
        "    index_map = pickle.load(f)  # загружает объект из файла"
      ]
    },
    {
      "cell_type": "code",
      "execution_count": null,
      "metadata": {
        "colab": {
          "base_uri": "https://localhost:8080/"
        },
        "id": "b9DvlLGVVJ0F",
        "outputId": "9816fa09-8e4d-4b44-bcda-403d545ae8ea"
      },
      "outputs": [
        {
          "data": {
            "text/plain": [
              "[17006, 25581]"
            ]
          },
          "execution_count": 21,
          "metadata": {},
          "output_type": "execute_result"
        }
      ],
      "source": [
        "ft_index.get_nns_by_vector(np.zeros(SIZE_EMB), 2)"
      ]
    },
    {
      "cell_type": "markdown",
      "metadata": {
        "id": "-fxTIFVNCLwK"
      },
      "source": [
        "## 3. Обучение продуктовых моделей"
      ]
    },
    {
      "cell_type": "code",
      "execution_count": null,
      "metadata": {
        "colab": {
          "base_uri": "https://localhost:8080/",
          "height": 458
        },
        "id": "Z-qxfw70VJ0G",
        "outputId": "b9f60635-5041-49c3-949b-e771572d5a19"
      },
      "outputs": [
        {
          "name": "stdout",
          "output_type": "stream",
          "text": [
            "CPU times: user 2min 43s, sys: 751 ms, total: 2min 44s\n",
            "Wall time: 2min 48s\n"
          ]
        },
        {
          "data": {
            "text/html": [
              "\n",
              "  <div id=\"df-a3185666-e635-41da-87cf-87510a4fda32\">\n",
              "    <div class=\"colab-df-container\">\n",
              "      <div>\n",
              "<style scoped>\n",
              "    .dataframe tbody tr th:only-of-type {\n",
              "        vertical-align: middle;\n",
              "    }\n",
              "\n",
              "    .dataframe tbody tr th {\n",
              "        vertical-align: top;\n",
              "    }\n",
              "\n",
              "    .dataframe thead th {\n",
              "        text-align: right;\n",
              "    }\n",
              "</style>\n",
              "<table border=\"1\" class=\"dataframe\">\n",
              "  <thead>\n",
              "    <tr style=\"text-align: right;\">\n",
              "      <th></th>\n",
              "      <th>title</th>\n",
              "      <th>descrirption</th>\n",
              "      <th>product_id</th>\n",
              "      <th>category_id</th>\n",
              "      <th>subcategory_id</th>\n",
              "      <th>properties</th>\n",
              "      <th>image_links</th>\n",
              "      <th>text</th>\n",
              "    </tr>\n",
              "  </thead>\n",
              "  <tbody>\n",
              "    <tr>\n",
              "      <th>0</th>\n",
              "      <td>Юбка детская ORBY</td>\n",
              "      <td>Новая, не носили ни разу. В реале красивей чем...</td>\n",
              "      <td>58e3cfe6132ca50e053f5f82</td>\n",
              "      <td>22.0</td>\n",
              "      <td>2211</td>\n",
              "      <td>{'detskie_razmer_rost': '81-86 (1,5 года)'}</td>\n",
              "      <td>http://cache3.youla.io/files/images/360_360/58...</td>\n",
              "      <td>[юбка, детский, orby, новый, носить, реал, кра...</td>\n",
              "    </tr>\n",
              "    <tr>\n",
              "      <th>1</th>\n",
              "      <td>Ботильоны</td>\n",
              "      <td>Новые,привезены из Чехии ,указан размер 40,но ...</td>\n",
              "      <td>5667531b2b7f8d127d838c34</td>\n",
              "      <td>9.0</td>\n",
              "      <td>902</td>\n",
              "      <td>{'zhenskaya_odezhda_tzvet': 'Зеленый', 'visota...</td>\n",
              "      <td>http://cache3.youla.io/files/images/360_360/5b...</td>\n",
              "      <td>[ботильон, новыепривезти, чехия, указать, разм...</td>\n",
              "    </tr>\n",
              "    <tr>\n",
              "      <th>2</th>\n",
              "      <td>Брюки</td>\n",
              "      <td>Размер 40-42. Брюки почти новые - не знаю как ...</td>\n",
              "      <td>59534826aaab284cba337e06</td>\n",
              "      <td>9.0</td>\n",
              "      <td>906</td>\n",
              "      <td>{'zhenskaya_odezhda_dzhinsy_bryuki_tip': 'Брюк...</td>\n",
              "      <td>http://cache3.youla.io/files/images/360_360/59...</td>\n",
              "      <td>[брюки, размер, 4042, брюки, новый, знать, мер...</td>\n",
              "    </tr>\n",
              "    <tr>\n",
              "      <th>3</th>\n",
              "      <td>Продам детские шапки</td>\n",
              "      <td>Продам шапки,кажда 200р.Розовая и белая проданны.</td>\n",
              "      <td>57de544096ad842e26de8027</td>\n",
              "      <td>22.0</td>\n",
              "      <td>2217</td>\n",
              "      <td>{'detskie_pol': 'Девочкам', 'detskaya_odezhda_...</td>\n",
              "      <td>http://cache3.youla.io/files/images/360_360/57...</td>\n",
              "      <td>[продать, детский, шапка, продать, шапкикажда,...</td>\n",
              "    </tr>\n",
              "    <tr>\n",
              "      <th>4</th>\n",
              "      <td>Блузка</td>\n",
              "      <td>Темно-синяя, 42 размер,состояние отличное,как ...</td>\n",
              "      <td>5ad4d2626c86cb168d212022</td>\n",
              "      <td>9.0</td>\n",
              "      <td>907</td>\n",
              "      <td>{'zhenskaya_odezhda_tzvet': 'Синий', 'zhenskay...</td>\n",
              "      <td>http://cache3.youla.io/files/images/360_360/5a...</td>\n",
              "      <td>[блузка, темносиний, 42, размерсостояние, отли...</td>\n",
              "    </tr>\n",
              "  </tbody>\n",
              "</table>\n",
              "</div>\n",
              "      <button class=\"colab-df-convert\" onclick=\"convertToInteractive('df-a3185666-e635-41da-87cf-87510a4fda32')\"\n",
              "              title=\"Convert this dataframe to an interactive table.\"\n",
              "              style=\"display:none;\">\n",
              "        \n",
              "  <svg xmlns=\"http://www.w3.org/2000/svg\" height=\"24px\"viewBox=\"0 0 24 24\"\n",
              "       width=\"24px\">\n",
              "    <path d=\"M0 0h24v24H0V0z\" fill=\"none\"/>\n",
              "    <path d=\"M18.56 5.44l.94 2.06.94-2.06 2.06-.94-2.06-.94-.94-2.06-.94 2.06-2.06.94zm-11 1L8.5 8.5l.94-2.06 2.06-.94-2.06-.94L8.5 2.5l-.94 2.06-2.06.94zm10 10l.94 2.06.94-2.06 2.06-.94-2.06-.94-.94-2.06-.94 2.06-2.06.94z\"/><path d=\"M17.41 7.96l-1.37-1.37c-.4-.4-.92-.59-1.43-.59-.52 0-1.04.2-1.43.59L10.3 9.45l-7.72 7.72c-.78.78-.78 2.05 0 2.83L4 21.41c.39.39.9.59 1.41.59.51 0 1.02-.2 1.41-.59l7.78-7.78 2.81-2.81c.8-.78.8-2.07 0-2.86zM5.41 20L4 18.59l7.72-7.72 1.47 1.35L5.41 20z\"/>\n",
              "  </svg>\n",
              "      </button>\n",
              "      \n",
              "  <style>\n",
              "    .colab-df-container {\n",
              "      display:flex;\n",
              "      flex-wrap:wrap;\n",
              "      gap: 12px;\n",
              "    }\n",
              "\n",
              "    .colab-df-convert {\n",
              "      background-color: #E8F0FE;\n",
              "      border: none;\n",
              "      border-radius: 50%;\n",
              "      cursor: pointer;\n",
              "      display: none;\n",
              "      fill: #1967D2;\n",
              "      height: 32px;\n",
              "      padding: 0 0 0 0;\n",
              "      width: 32px;\n",
              "    }\n",
              "\n",
              "    .colab-df-convert:hover {\n",
              "      background-color: #E2EBFA;\n",
              "      box-shadow: 0px 1px 2px rgba(60, 64, 67, 0.3), 0px 1px 3px 1px rgba(60, 64, 67, 0.15);\n",
              "      fill: #174EA6;\n",
              "    }\n",
              "\n",
              "    [theme=dark] .colab-df-convert {\n",
              "      background-color: #3B4455;\n",
              "      fill: #D2E3FC;\n",
              "    }\n",
              "\n",
              "    [theme=dark] .colab-df-convert:hover {\n",
              "      background-color: #434B5C;\n",
              "      box-shadow: 0px 1px 3px 1px rgba(0, 0, 0, 0.15);\n",
              "      filter: drop-shadow(0px 1px 2px rgba(0, 0, 0, 0.3));\n",
              "      fill: #FFFFFF;\n",
              "    }\n",
              "  </style>\n",
              "\n",
              "      <script>\n",
              "        const buttonEl =\n",
              "          document.querySelector('#df-a3185666-e635-41da-87cf-87510a4fda32 button.colab-df-convert');\n",
              "        buttonEl.style.display =\n",
              "          google.colab.kernel.accessAllowed ? 'block' : 'none';\n",
              "\n",
              "        async function convertToInteractive(key) {\n",
              "          const element = document.querySelector('#df-a3185666-e635-41da-87cf-87510a4fda32');\n",
              "          const dataTable =\n",
              "            await google.colab.kernel.invokeFunction('convertToInteractive',\n",
              "                                                     [key], {});\n",
              "          if (!dataTable) return;\n",
              "\n",
              "          const docLinkHtml = 'Like what you see? Visit the ' +\n",
              "            '<a target=\"_blank\" href=https://colab.research.google.com/notebooks/data_table.ipynb>data table notebook</a>'\n",
              "            + ' to learn more about interactive tables.';\n",
              "          element.innerHTML = '';\n",
              "          dataTable['output_type'] = 'display_data';\n",
              "          await google.colab.output.renderOutput(dataTable, element);\n",
              "          const docLink = document.createElement('div');\n",
              "          docLink.innerHTML = docLinkHtml;\n",
              "          element.appendChild(docLink);\n",
              "        }\n",
              "      </script>\n",
              "    </div>\n",
              "  </div>\n",
              "  "
            ],
            "text/plain": [
              "                  title                                       descrirption  \\\n",
              "0     Юбка детская ORBY  Новая, не носили ни разу. В реале красивей чем...   \n",
              "1             Ботильоны  Новые,привезены из Чехии ,указан размер 40,но ...   \n",
              "2                 Брюки  Размер 40-42. Брюки почти новые - не знаю как ...   \n",
              "3  Продам детские шапки  Продам шапки,кажда 200р.Розовая и белая проданны.   \n",
              "4                Блузка  Темно-синяя, 42 размер,состояние отличное,как ...   \n",
              "\n",
              "                 product_id  category_id subcategory_id  \\\n",
              "0  58e3cfe6132ca50e053f5f82         22.0           2211   \n",
              "1  5667531b2b7f8d127d838c34          9.0            902   \n",
              "2  59534826aaab284cba337e06          9.0            906   \n",
              "3  57de544096ad842e26de8027         22.0           2217   \n",
              "4  5ad4d2626c86cb168d212022          9.0            907   \n",
              "\n",
              "                                          properties  \\\n",
              "0        {'detskie_razmer_rost': '81-86 (1,5 года)'}   \n",
              "1  {'zhenskaya_odezhda_tzvet': 'Зеленый', 'visota...   \n",
              "2  {'zhenskaya_odezhda_dzhinsy_bryuki_tip': 'Брюк...   \n",
              "3  {'detskie_pol': 'Девочкам', 'detskaya_odezhda_...   \n",
              "4  {'zhenskaya_odezhda_tzvet': 'Синий', 'zhenskay...   \n",
              "\n",
              "                                         image_links  \\\n",
              "0  http://cache3.youla.io/files/images/360_360/58...   \n",
              "1  http://cache3.youla.io/files/images/360_360/5b...   \n",
              "2  http://cache3.youla.io/files/images/360_360/59...   \n",
              "3  http://cache3.youla.io/files/images/360_360/57...   \n",
              "4  http://cache3.youla.io/files/images/360_360/5a...   \n",
              "\n",
              "                                                text  \n",
              "0  [юбка, детский, orby, новый, носить, реал, кра...  \n",
              "1  [ботильон, новыепривезти, чехия, указать, разм...  \n",
              "2  [брюки, размер, 4042, брюки, новый, знать, мер...  \n",
              "3  [продать, детский, шапка, продать, шапкикажда,...  \n",
              "4  [блузка, темносиний, 42, размерсостояние, отли...  "
            ]
          },
          "execution_count": 23,
          "metadata": {},
          "output_type": "execute_result"
        }
      ],
      "source": [
        "%%time\n",
        "\n",
        "shop_data = pd.read_csv(\"/content/drive/MyDrive/06_lang/course_proj/ProductsDataset.csv\")\n",
        "# \"/content/drive/MyDrive/06_lang/course_proj/Misis.Ida.zip\"\n",
        "shop_data['text'] = shop_data['title'] + \" \" + shop_data[\"descrirption\"]\n",
        "shop_data['text'] = shop_data['text'].apply(lambda x: preprocess_txt(str(x)))\n",
        "shop_data.head()"
      ]
    },
    {
      "cell_type": "code",
      "execution_count": null,
      "metadata": {
        "id": "rqml_x5JVJ0H"
      },
      "outputs": [],
      "source": [
        "from sklearn.feature_extraction.text import CountVectorizer\n",
        "from sklearn.linear_model import LogisticRegression\n",
        "\n",
        "vectorizer = CountVectorizer(ngram_range=(1, 2))"
      ]
    },
    {
      "cell_type": "code",
      "execution_count": null,
      "metadata": {
        "colab": {
          "base_uri": "https://localhost:8080/"
        },
        "id": "Xfxh1xO9VJ0I",
        "outputId": "b9f6bb19-f68e-431a-b12f-66b81e0a0acd"
      },
      "outputs": [
        {
          "name": "stdout",
          "output_type": "stream",
          "text": [
            "CPU times: user 7min 44s, sys: 1.48 s, total: 7min 45s\n",
            "Wall time: 7min 47s\n"
          ]
        }
      ],
      "source": [
        "%%time\n",
        "\n",
        "idxs = set(np.random.randint(0, len(index_map), len(shop_data)))\n",
        "negative_texts = [\" \".join(preprocess_txt(index_map[i])) for i in idxs]\n",
        "positive_texts = [\" \".join(val) for val in shop_data['text'].values]"
      ]
    },
    {
      "cell_type": "code",
      "execution_count": null,
      "metadata": {
        "id": "3ud68payVJ0J"
      },
      "outputs": [],
      "source": [
        "dataset = negative_texts + positive_texts\n",
        "labels = np.zeros(len(dataset))\n",
        "labels[len(negative_texts):] = np.ones(len(positive_texts))"
      ]
    },
    {
      "cell_type": "code",
      "execution_count": null,
      "metadata": {
        "id": "N_oxnOuzVJ0K"
      },
      "outputs": [],
      "source": [
        "from sklearn.model_selection import train_test_split\n",
        "\n",
        "X_train, X_test, y_train, y_test = train_test_split(dataset, labels, test_size=0.2, stratify=labels,\n",
        "                                                    random_state=13)"
      ]
    },
    {
      "cell_type": "markdown",
      "metadata": {
        "id": "qh1yGg681AbK"
      },
      "source": [
        "Модуль CountVectorizer в sklearn позволяет сконвертировать набор текстов в матрицу токенов, находящихся в тексте."
      ]
    },
    {
      "cell_type": "code",
      "execution_count": null,
      "metadata": {
        "colab": {
          "base_uri": "https://localhost:8080/"
        },
        "id": "tNzqfsIZVJ0K",
        "outputId": "b3b47214-b35e-4d0c-cf69-e88b21cfb0a4"
      },
      "outputs": [
        {
          "name": "stdout",
          "output_type": "stream",
          "text": [
            "CPU times: user 39 s, sys: 17.8 s, total: 56.7 s\n",
            "Wall time: 37.1 s\n"
          ]
        }
      ],
      "source": [
        "%%time\n",
        "\n",
        "x_train_vec = vectorizer.fit_transform(X_train)\n",
        "x_test_vec = vectorizer.transform(X_test)\n",
        "\n",
        "lr = LogisticRegression().fit(x_train_vec, y_train)"
      ]
    },
    {
      "cell_type": "code",
      "execution_count": null,
      "metadata": {
        "id": "4aviusxi4tuB"
      },
      "outputs": [],
      "source": [
        "with open(f'vectorizer.pkl', 'wb') as f:\n",
        "    pickle.dump(vectorizer, f)"
      ]
    },
    {
      "cell_type": "code",
      "execution_count": null,
      "metadata": {
        "id": "j7Vap3VN4trG"
      },
      "outputs": [],
      "source": [
        "vectorizer = CountVectorizer(ngram_range=(1, 2))\n",
        "with open(f'vectorizer.pkl', 'rb') as f:\n",
        "    vectorizer = pickle.load(f)"
      ]
    },
    {
      "cell_type": "code",
      "execution_count": null,
      "metadata": {
        "id": "6JrAAHDh4tmH"
      },
      "outputs": [],
      "source": [
        "with open(f'lr.pkl', 'wb') as f:\n",
        "    pickle.dump(lr, f)"
      ]
    },
    {
      "cell_type": "code",
      "execution_count": null,
      "metadata": {
        "id": "BYAsNmC14te3"
      },
      "outputs": [],
      "source": [
        "lr = LogisticRegression()\n",
        "with open(f'lr.pkl', 'rb') as f:\n",
        "    lr = pickle.load(f)"
      ]
    },
    {
      "cell_type": "code",
      "execution_count": null,
      "metadata": {
        "colab": {
          "base_uri": "https://localhost:8080/"
        },
        "id": "q_bWwksAVJ0L",
        "outputId": "b6e742c1-3371-46af-ef0a-578423130271"
      },
      "outputs": [
        {
          "data": {
            "text/plain": [
              "0.9778754786555098"
            ]
          },
          "execution_count": 33,
          "metadata": {},
          "output_type": "execute_result"
        }
      ],
      "source": [
        "from sklearn.metrics import accuracy_score\n",
        "\n",
        "accuracy_score(y_true=y_test, y_pred=lr.predict(x_test_vec))"
      ]
    },
    {
      "cell_type": "code",
      "execution_count": null,
      "metadata": {
        "id": "XFgbubh7VJ0N"
      },
      "outputs": [],
      "source": [
        "from sklearn.feature_extraction.text import TfidfVectorizer\n",
        "\n",
        "tfidf_vect = TfidfVectorizer().fit(X_train)"
      ]
    },
    {
      "cell_type": "markdown",
      "metadata": {
        "id": "mhTAcf545G9H"
      },
      "source": [
        "### Обучение модели TF-IDF"
      ]
    },
    {
      "cell_type": "code",
      "execution_count": null,
      "metadata": {
        "colab": {
          "base_uri": "https://localhost:8080/"
        },
        "id": "2fkoE9j35TMe",
        "outputId": "514a91a7-21eb-4bc3-989a-a0454bc5b324"
      },
      "outputs": [
        {
          "name": "stdout",
          "output_type": "stream",
          "text": [
            "CPU times: user 1.95 s, sys: 41.1 ms, total: 1.99 s\n",
            "Wall time: 1.99 s\n"
          ]
        }
      ],
      "source": [
        "%%time\n",
        "tfidf_vect_prod = TfidfVectorizer(lowercase=False, min_df=2)\n",
        "tfidf_vect_prod.fit(X_train)\n",
        "\n",
        "idfs_prod = {v[0]: v[1] for v in zip(tfidf_vect_prod.vocabulary_, tfidf_vect_prod.idf_)}\n",
        "midf_prod = np.mean(tfidf_vect_prod.idf_)\n",
        "\n",
        "with open(f'idfs_prod.pkl', 'wb') as f:\n",
        "    pickle.dump(idfs_prod, f)\n",
        "with open(f'midf_prod.pkl', 'wb') as f:\n",
        "    pickle.dump(midf_prod, f)"
      ]
    },
    {
      "cell_type": "code",
      "execution_count": null,
      "metadata": {
        "id": "siB0A_Iq5TJc"
      },
      "outputs": [],
      "source": [
        "with open(f'idfs_prod.pkl', 'rb') as f:\n",
        "    idfs_prod = pickle.load(f)"
      ]
    },
    {
      "cell_type": "code",
      "execution_count": null,
      "metadata": {
        "id": "KZ769ISh5TE8"
      },
      "outputs": [],
      "source": [
        "with open(f'midf_prod.pkl', 'rb') as f:\n",
        "    midf_prod = pickle.load(f)"
      ]
    },
    {
      "cell_type": "markdown",
      "metadata": {
        "id": "2lAVVBCO5xQt"
      },
      "source": [
        "## Annoy. Алгоритм приблизительного поиска"
      ]
    },
    {
      "cell_type": "code",
      "execution_count": null,
      "metadata": {
        "colab": {
          "base_uri": "https://localhost:8080/",
          "height": 205,
          "referenced_widgets": [
            "a67a6d831c414f0c88cb6ffc474c3faa",
            "c7b0251b6f5e4036870c15f45b5dac86",
            "83f0f7a28114426f84894c4ef9fd7687",
            "7b36ab512560493ba23f58e2d396d60a",
            "c50584cc5cd2485f9f208d642432ef38",
            "388ba797fcef49cc9ae57f01467de7f2",
            "6ae1ccf6a9ea495d9a3fc21d6a96e489",
            "ff116ef6c1e447029c7dd42fa9f13bd3",
            "c83af734efc941c09f635c58cabc4997",
            "0943070ac52a4019af3bdc0131c7651e",
            "a2a6986260e74b82b76dafaa1cc1526f"
          ]
        },
        "id": "6MzM-OuB8e4j",
        "outputId": "a9fa7b86-6a11-445f-eadd-30492a6b4af1"
      },
      "outputs": [
        {
          "name": "stderr",
          "output_type": "stream",
          "text": [
            "/usr/local/lib/python3.7/dist-packages/ipykernel_launcher.py:5: TqdmDeprecationWarning: This function will be removed in tqdm==5.0.0\n",
            "Please use `tqdm.notebook.tqdm` instead of `tqdm.tqdm_notebook`\n",
            "  \"\"\"\n"
          ]
        },
        {
          "data": {
            "application/vnd.jupyter.widget-view+json": {
              "model_id": "a67a6d831c414f0c88cb6ffc474c3faa",
              "version_major": 2,
              "version_minor": 0
            },
            "text/plain": [
              "  0%|          | 0/35548 [00:00<?, ?it/s]"
            ]
          },
          "metadata": {},
          "output_type": "display_data"
        },
        {
          "name": "stderr",
          "output_type": "stream",
          "text": [
            "/usr/local/lib/python3.7/dist-packages/ipykernel_launcher.py:10: DeprecationWarning: Call to deprecated `__contains__` (Method will be removed in 4.0.0, use self.wv.__contains__() instead).\n",
            "  # Remove the CWD from sys.path while we load stuff.\n",
            "/usr/local/lib/python3.7/dist-packages/ipykernel_launcher.py:11: DeprecationWarning: Call to deprecated `__getitem__` (Method will be removed in 4.0.0, use self.wv.__getitem__() instead).\n",
            "  # This is added back by InteractiveShellApp.init_path()\n"
          ]
        },
        {
          "name": "stdout",
          "output_type": "stream",
          "text": [
            "CPU times: user 29.1 s, sys: 1.92 s, total: 31 s\n",
            "Wall time: 27.3 s\n"
          ]
        }
      ],
      "source": [
        "%%time\n",
        "ft_index_shop = annoy.AnnoyIndex(SIZE_EMB ,'angular')\n",
        "index_map_shop = {}\n",
        "counter = 0\n",
        "\n",
        "for i in tqdm_notebook(range(len(shop_data))):\n",
        "    n_ft = 0\n",
        "    index_map_shop[counter] = (shop_data.loc[i, \"title\"], shop_data.loc[i, \"image_links\"])\n",
        "    vector_ft = np.zeros(SIZE_EMB)\n",
        "    for word in shop_data.loc[i, \"text\"]:\n",
        "        if word in modelFT:\n",
        "            vector_ft += modelFT[word] * idfs.get(word, midf_prod)\n",
        "            n_ft += idfs.get(word, midf_prod)\n",
        "    if n_ft > 0:\n",
        "        vector_ft = vector_ft / n_ft\n",
        "    ft_index_shop.add_item(counter, vector_ft)\n",
        "    counter += 1\n",
        "\n",
        "ft_index_shop.build(50)\n",
        "# ft_index_shop.save('shop.ann')\n",
        "ft_index_shop.save(f'ft_index_shop')\n",
        "\n",
        "with open(f'index_map_shop.pkl', 'wb') as f:\n",
        "    pickle.dump(index_map_shop, f)  # записывает сериализованный объект в файл."
      ]
    },
    {
      "cell_type": "code",
      "execution_count": null,
      "metadata": {
        "colab": {
          "base_uri": "https://localhost:8080/"
        },
        "id": "e0pNAhEZ8wHX",
        "outputId": "615921bd-8c64-444d-c750-7cf4f757489d"
      },
      "outputs": [
        {
          "data": {
            "text/plain": [
              "True"
            ]
          },
          "execution_count": 40,
          "metadata": {},
          "output_type": "execute_result"
        }
      ],
      "source": [
        "ft_index_shop = annoy.AnnoyIndex(SIZE_EMB, 'angular')\n",
        "ft_index_shop.load(f'ft_index_shop')"
      ]
    },
    {
      "cell_type": "code",
      "execution_count": null,
      "metadata": {
        "id": "9O2F9G-f8wE-"
      },
      "outputs": [],
      "source": [
        "with open(f'index_map_shop.pkl', 'rb') as f:\n",
        "    index_map_shop = pickle.load(f)"
      ]
    },
    {
      "cell_type": "markdown",
      "metadata": {
        "id": "VRTWnxex_4Z2"
      },
      "source": [
        "# БОТ"
      ]
    },
    {
      "cell_type": "code",
      "execution_count": null,
      "metadata": {
        "colab": {
          "base_uri": "https://localhost:8080/",
          "height": 104,
          "referenced_widgets": [
            "09c54d9bd1604071b74e4ef43895676c",
            "bec907b048f24cc6a673e1614ab74010",
            "499d9aeaee594a709e2132b30098c0a4",
            "17347ebd6b504ddca64b1a293f0a5e02",
            "c124bf68fc02491990545cb6004d97fc",
            "a3180e92b739489ca0ff03ee55a80623",
            "58d3fa42e7c04c428e0ceec922514fdc",
            "159e4a76a88147a4b5bac1022986cbde",
            "c0d6f88312ef4bf5b5ba7d5ea9734c16",
            "e8e3b053fc0f43098b066605a7ca508c",
            "4b3473c3b9874973b49c32bd8a3515a4"
          ]
        },
        "id": "7mXod2l6RJNO",
        "outputId": "5cf31e25-0a4d-4a8b-89de-1699a2892560"
      },
      "outputs": [
        {
          "name": "stderr",
          "output_type": "stream",
          "text": [
            "The cache for model files in Transformers v4.22.0 has been updated. Migrating your old cache. This is a one-time only operation. You can interrupt this and resume the migration later on by calling `transformers.utils.move_cache()`.\n"
          ]
        },
        {
          "name": "stdout",
          "output_type": "stream",
          "text": [
            "Moving 0 files to the new cache system\n"
          ]
        },
        {
          "data": {
            "application/vnd.jupyter.widget-view+json": {
              "model_id": "09c54d9bd1604071b74e4ef43895676c",
              "version_major": 2,
              "version_minor": 0
            },
            "text/plain": [
              "0it [00:00, ?it/s]"
            ]
          },
          "metadata": {},
          "output_type": "display_data"
        }
      ],
      "source": [
        "from transformers import AutoTokenizer, AutoModelForSeq2SeqLM\n",
        "from transformers import MBartTokenizer, MBartForConditionalGeneration"
      ]
    },
    {
      "cell_type": "code",
      "execution_count": null,
      "metadata": {
        "colab": {
          "base_uri": "https://localhost:8080/"
        },
        "id": "Xn4rlPkXRCPj",
        "outputId": "10e5e2ba-2d35-4125-97a6-71c1ef1bb0a8"
      },
      "outputs": [
        {
          "name": "stderr",
          "output_type": "stream",
          "text": [
            "/usr/local/lib/python3.7/dist-packages/transformers/convert_slow_tokenizer.py:447: UserWarning: The sentencepiece tokenizer that you are converting to a fast tokenizer uses the byte fallback option which is not implemented in the fast tokenizers. In practice this means that the fast version of the tokenizer can produce unknown tokens whereas the sentencepiece version would have converted these unknown tokens into a sequence of byte tokens matching the original piece of text.\n",
            "  \"The sentencepiece tokenizer that you are converting to a fast tokenizer uses the byte fallback option\"\n"
          ]
        }
      ],
      "source": [
        "model_name = \"csebuetnlp/mT5_multilingual_XLSum\"\n",
        "tokenizer = AutoTokenizer.from_pretrained(model_name)\n",
        "model_mT5_multilingual_XLSum = AutoModelForSeq2SeqLM.from_pretrained(model_name)"
      ]
    },
    {
      "cell_type": "code",
      "execution_count": null,
      "metadata": {
        "id": "Yuvkm8XTSVxt"
      },
      "outputs": [],
      "source": [
        "import os\n",
        "from telegram.ext import Updater, CommandHandler, MessageHandler, Filters, CallbackContext\n",
        "import string\n",
        "from pymorphy2 import MorphAnalyzer\n",
        "from stop_words import get_stop_words\n",
        "import annoy\n",
        "from gensim.models import Word2Vec, FastText\n",
        "import pickle\n",
        "import numpy as np\n",
        "from tqdm import tqdm_notebook\n",
        "import pandas as pd\n",
        "import re\n",
        "\n",
        "from telegram import Update\n",
        "from sklearn.feature_extraction.text import CountVectorizer, TfidfVectorizer\n",
        "from sklearn.linear_model import LogisticRegression\n",
        "\n",
        "SIZE_EMB = 200  # Размер эмбеддинга"
      ]
    },
    {
      "cell_type": "code",
      "execution_count": null,
      "metadata": {
        "id": "AQmZeeOYrp93"
      },
      "outputs": [],
      "source": [
        "morpher = MorphAnalyzer()\n",
        "sw = set(get_stop_words(\"ru\"))\n",
        "exclude = set(string.punctuation)"
      ]
    },
    {
      "cell_type": "markdown",
      "metadata": {
        "id": "5xswuKVgtxnN"
      },
      "source": [
        "## Загрузка моделей"
      ]
    },
    {
      "cell_type": "code",
      "execution_count": null,
      "metadata": {
        "id": "MiQA7Q0hUfmw"
      },
      "outputs": [],
      "source": [
        "with open(f'idfs.pkl', 'rb') as f:\n",
        "    idfs = pickle.load(f)\n",
        "\n",
        "with open(f'midf.pkl', 'rb') as f:\n",
        "    midf = pickle.load(f)\n",
        "\n",
        "with open(f'idfs_prod.pkl', 'rb') as f:\n",
        "    idfs_prod = pickle.load(f)  # загружает объект из файла\n",
        "\n",
        "with open(f'midf_prod.pkl', 'rb') as f:\n",
        "    midf_prod = pickle.load(f)  # загружает объект из файла\n",
        "\n",
        "# Подгружаем предварительно обученную модель вопросов из болталки\n",
        "modelFT = FastText.load(f'ft_model')\n",
        "\n",
        "# Подгружаем предварительно подготовленный и сохранненый индекс ответов из болталки\n",
        "ft_index = annoy.AnnoyIndex(SIZE_EMB, 'angular')\n",
        "ft_index.load(f'/content/drive/MyDrive/06_lang/course_proj/ft_index.ann')\n",
        "with open(f'/content/drive/MyDrive/06_lang/course_proj/index_map.pkl', 'rb') as f:\n",
        "    index_map = pickle.load(f)  # загружает объект из файла\n",
        "\n",
        "vectorizer = CountVectorizer(ngram_range=(1, 2))\n",
        "with open(f'vectorizer.pkl', 'rb') as f:\n",
        "    vectorizer = pickle.load(f)\n",
        "\n",
        "lr = LogisticRegression()\n",
        "with open(f'lr.pkl', 'rb') as f:\n",
        "    lr = pickle.load(f)\n",
        "\n",
        "with open(f'midf_prod.pkl', 'rb') as f:\n",
        "    midf_p = pickle.load(f)\n",
        "\n",
        "ft_index_shop = annoy.AnnoyIndex(SIZE_EMB, 'angular')\n",
        "ft_index_shop.load(f'ft_index_shop')\n",
        "\n",
        "# Подгружаем предварительно обученную модель продуктовых названий\n",
        "with open(f'index_map_shop.pkl', 'rb') as f:\n",
        "    index_map_shop = pickle.load(f)"
      ]
    },
    {
      "cell_type": "code",
      "execution_count": null,
      "metadata": {
        "id": "q3WZwzdWVJ0T"
      },
      "outputs": [],
      "source": [
        "updater = Updater(\"5536499211:AAE23zQfPNhL1VkxtGE_LADiDl8ox05Hysc\", use_context=True)  # Токен API к Telegram\n",
        "\n",
        "def echo(update: Update, context: CallbackContext):\n",
        "    txt = update.message.text\n",
        "    update.message.reply_text('Ваше сообщение! ' + update.message.text)\n",
        "\n",
        "\n",
        "def startCommand(update: Update, context: CallbackContext) -> None:\n",
        "    update.message.reply_text('Добрый день!')\n",
        "\n",
        "\n",
        "def model_mT5_multilingual_XLSum_summary(input_text, model, tokenizer):\n",
        "    \"\"\"\n",
        "        Суммаризация. Предобученную модель: csebuetnlp/mT5_multilingual_XLSum\n",
        "    \"\"\"\n",
        "    WHITESPACE_HANDLER = lambda k: re.sub('\\s+', ' ', re.sub('\\n+', ' ', k.strip()))\n",
        "\n",
        "    input_ids = tokenizer(\n",
        "        [WHITESPACE_HANDLER(input_text)],\n",
        "        return_tensors=\"pt\",\n",
        "        padding=\"max_length\",\n",
        "        truncation=True,\n",
        "        max_length=512\n",
        "    )[\"input_ids\"]\n",
        "\n",
        "    output_ids = model.generate(\n",
        "        input_ids=input_ids,\n",
        "        max_length=84,\n",
        "        no_repeat_ngram_size=2,\n",
        "        num_beams=4\n",
        "    )[0]\n",
        "\n",
        "    summary = tokenizer.decode(\n",
        "        output_ids,\n",
        "        skip_special_tokens=True,\n",
        "        clean_up_tokenization_spaces=False\n",
        "    )\n",
        "\n",
        "    return summary\n",
        "\n",
        "\n",
        "def textMessage(update: Update, context: CallbackContext) -> None:\n",
        "\n",
        "    # 1. Суммаризация. Начало фразы с ключевого слова \"Summarization:\"\n",
        "    input_text = update.message.text\n",
        "    if input_text.split(' ', 1)[0] == 'Summarisation:':\n",
        "      update.message.reply_text('Подождите, идет суммаризация текста ...')\n",
        "\n",
        "      input_text = input_text.replace('Summarisation:', '')\n",
        "      summary = model_mT5_multilingual_XLSum_summary(input_text, model_mT5_multilingual_XLSum, tokenizer)\n",
        "      update.message.reply_text('Суммаризация: ' + summary)\n",
        "\n",
        "    else:\n",
        "      res_text = 'Не понимаю запрос. Сформулируйте запрос более корректно.'\n",
        "      input_txt = preprocess_txt(update.message.text)\n",
        "      vect = vectorizer.transform([\" \".join(input_txt)])\n",
        "      prediction = lr.predict(vect)\n",
        "\n",
        "      # 2. Определим является ли запрос продуктовым.\n",
        "      if prediction[0] == 1:\n",
        "          # Если запрос продуктовый, то найдём 3 самых подходящих товара.\n",
        "          update.message.reply_text('Продуктовый ...')\n",
        "          find = False\n",
        "          vect_ft = embed_txt(input_txt, idfs_prod, modelFT, midf_prod)\n",
        "          ft_index_shop_val, distances_shop = ft_index_shop.get_nns_by_vector(vect_ft, 3, include_distances=True)\n",
        "\n",
        "          for i, item in enumerate(ft_index_shop_val):\n",
        "              if distances_shop[i] <= 0.5:\n",
        "                title, image = index_map_shop[item]\n",
        "                print(title, image)\n",
        "                update.message.reply_text(\"title: {} image: {}\".format(title, image))\n",
        "                find = True\n",
        "          if find == False:\n",
        "            update.message.reply_text(res_text)\n",
        "\n",
        "      else:\n",
        "          # 3. Если запрос разговорный, то найдём ответ.\n",
        "          update.message.reply_text('Разговорный ...')\n",
        "          vect_ft = embed_txt(input_txt, idfs, modelFT, midf)\n",
        "          ft_index_val, distances = ft_index.get_nns_by_vector(vect_ft, 1, include_distances=True)\n",
        "          if distances[0] <= 0.9:\n",
        "              update.message.reply_text(index_map[ft_index_val[0]])\n",
        "          else:\n",
        "              update.message.reply_text(res_text)"
      ]
    },
    {
      "cell_type": "code",
      "execution_count": null,
      "metadata": {
        "colab": {
          "base_uri": "https://localhost:8080/"
        },
        "id": "HSrHMSGWRiRa",
        "outputId": "268ed2ca-b25e-435c-f156-7c18994c6960"
      },
      "outputs": [
        {
          "name": "stderr",
          "output_type": "stream",
          "text": [
            "/usr/local/lib/python3.7/dist-packages/ipykernel_launcher.py:5: DeprecationWarning: Call to deprecated `__contains__` (Method will be removed in 4.0.0, use self.wv.__contains__() instead).\n",
            "  \"\"\"\n",
            "/usr/local/lib/python3.7/dist-packages/ipykernel_launcher.py:6: DeprecationWarning: Call to deprecated `__getitem__` (Method will be removed in 4.0.0, use self.wv.__getitem__() instead).\n",
            "  \n"
          ]
        },
        {
          "name": "stdout",
          "output_type": "stream",
          "text": [
            "Автоматика для водяных насосов http://cache3.youla.io/files/images/360_360/59/e1/59e1f415c6ab9e3082768c53.jpg\n",
            "Зонт-трость автомат новый, надежные спицы http://cache3.youla.io/files/images/360_360/5b/3e/5b3e3d89ec9855b45a1f29e2.jpg\n",
            "Новые туфли Mascotte из натуральной кожи http://cache3.youla.io/files/images/360_360/5a/5d/5a5df19ecf204508ed201da2.jpg\n"
          ]
        }
      ],
      "source": [
        "dispatcher = updater.dispatcher  # Диспетчер\n",
        "\n",
        "# on different commands - answer in Telegram\n",
        "dispatcher.add_handler(CommandHandler('start', startCommand))\n",
        "dispatcher.add_handler(MessageHandler(Filters.text & ~Filters.command, textMessage))\n",
        "\n",
        "# Start Bot\n",
        "updater.start_polling()\n",
        "updater.idle()"
      ]
    }
  ],
  "metadata": {
    "colab": {
      "provenance": [],
      "gpuType": "T4",
      "include_colab_link": true
    },
    "kernelspec": {
      "display_name": "Python 3",
      "name": "python3"
    },
    "language_info": {
      "codemirror_mode": {
        "name": "ipython",
        "version": 3
      },
      "file_extension": ".py",
      "mimetype": "text/x-python",
      "name": "python",
      "nbconvert_exporter": "python",
      "pygments_lexer": "ipython3",
      "version": "3.8.5"
    },
    "widgets": {
      "application/vnd.jupyter.widget-state+json": {
        "0943070ac52a4019af3bdc0131c7651e": {
          "model_module": "@jupyter-widgets/base",
          "model_module_version": "1.2.0",
          "model_name": "LayoutModel",
          "state": {
            "_model_module": "@jupyter-widgets/base",
            "_model_module_version": "1.2.0",
            "_model_name": "LayoutModel",
            "_view_count": null,
            "_view_module": "@jupyter-widgets/base",
            "_view_module_version": "1.2.0",
            "_view_name": "LayoutView",
            "align_content": null,
            "align_items": null,
            "align_self": null,
            "border": null,
            "bottom": null,
            "display": null,
            "flex": null,
            "flex_flow": null,
            "grid_area": null,
            "grid_auto_columns": null,
            "grid_auto_flow": null,
            "grid_auto_rows": null,
            "grid_column": null,
            "grid_gap": null,
            "grid_row": null,
            "grid_template_areas": null,
            "grid_template_columns": null,
            "grid_template_rows": null,
            "height": null,
            "justify_content": null,
            "justify_items": null,
            "left": null,
            "margin": null,
            "max_height": null,
            "max_width": null,
            "min_height": null,
            "min_width": null,
            "object_fit": null,
            "object_position": null,
            "order": null,
            "overflow": null,
            "overflow_x": null,
            "overflow_y": null,
            "padding": null,
            "right": null,
            "top": null,
            "visibility": null,
            "width": null
          }
        },
        "09c54d9bd1604071b74e4ef43895676c": {
          "model_module": "@jupyter-widgets/controls",
          "model_module_version": "1.5.0",
          "model_name": "HBoxModel",
          "state": {
            "_dom_classes": [],
            "_model_module": "@jupyter-widgets/controls",
            "_model_module_version": "1.5.0",
            "_model_name": "HBoxModel",
            "_view_count": null,
            "_view_module": "@jupyter-widgets/controls",
            "_view_module_version": "1.5.0",
            "_view_name": "HBoxView",
            "box_style": "",
            "children": [
              "IPY_MODEL_bec907b048f24cc6a673e1614ab74010",
              "IPY_MODEL_499d9aeaee594a709e2132b30098c0a4",
              "IPY_MODEL_17347ebd6b504ddca64b1a293f0a5e02"
            ],
            "layout": "IPY_MODEL_c124bf68fc02491990545cb6004d97fc"
          }
        },
        "159e4a76a88147a4b5bac1022986cbde": {
          "model_module": "@jupyter-widgets/base",
          "model_module_version": "1.2.0",
          "model_name": "LayoutModel",
          "state": {
            "_model_module": "@jupyter-widgets/base",
            "_model_module_version": "1.2.0",
            "_model_name": "LayoutModel",
            "_view_count": null,
            "_view_module": "@jupyter-widgets/base",
            "_view_module_version": "1.2.0",
            "_view_name": "LayoutView",
            "align_content": null,
            "align_items": null,
            "align_self": null,
            "border": null,
            "bottom": null,
            "display": null,
            "flex": null,
            "flex_flow": null,
            "grid_area": null,
            "grid_auto_columns": null,
            "grid_auto_flow": null,
            "grid_auto_rows": null,
            "grid_column": null,
            "grid_gap": null,
            "grid_row": null,
            "grid_template_areas": null,
            "grid_template_columns": null,
            "grid_template_rows": null,
            "height": null,
            "justify_content": null,
            "justify_items": null,
            "left": null,
            "margin": null,
            "max_height": null,
            "max_width": null,
            "min_height": null,
            "min_width": null,
            "object_fit": null,
            "object_position": null,
            "order": null,
            "overflow": null,
            "overflow_x": null,
            "overflow_y": null,
            "padding": null,
            "right": null,
            "top": null,
            "visibility": null,
            "width": "20px"
          }
        },
        "17347ebd6b504ddca64b1a293f0a5e02": {
          "model_module": "@jupyter-widgets/controls",
          "model_module_version": "1.5.0",
          "model_name": "HTMLModel",
          "state": {
            "_dom_classes": [],
            "_model_module": "@jupyter-widgets/controls",
            "_model_module_version": "1.5.0",
            "_model_name": "HTMLModel",
            "_view_count": null,
            "_view_module": "@jupyter-widgets/controls",
            "_view_module_version": "1.5.0",
            "_view_name": "HTMLView",
            "description": "",
            "description_tooltip": null,
            "layout": "IPY_MODEL_e8e3b053fc0f43098b066605a7ca508c",
            "placeholder": "​",
            "style": "IPY_MODEL_4b3473c3b9874973b49c32bd8a3515a4",
            "value": " 0/0 [00:00&lt;?, ?it/s]"
          }
        },
        "388ba797fcef49cc9ae57f01467de7f2": {
          "model_module": "@jupyter-widgets/base",
          "model_module_version": "1.2.0",
          "model_name": "LayoutModel",
          "state": {
            "_model_module": "@jupyter-widgets/base",
            "_model_module_version": "1.2.0",
            "_model_name": "LayoutModel",
            "_view_count": null,
            "_view_module": "@jupyter-widgets/base",
            "_view_module_version": "1.2.0",
            "_view_name": "LayoutView",
            "align_content": null,
            "align_items": null,
            "align_self": null,
            "border": null,
            "bottom": null,
            "display": null,
            "flex": null,
            "flex_flow": null,
            "grid_area": null,
            "grid_auto_columns": null,
            "grid_auto_flow": null,
            "grid_auto_rows": null,
            "grid_column": null,
            "grid_gap": null,
            "grid_row": null,
            "grid_template_areas": null,
            "grid_template_columns": null,
            "grid_template_rows": null,
            "height": null,
            "justify_content": null,
            "justify_items": null,
            "left": null,
            "margin": null,
            "max_height": null,
            "max_width": null,
            "min_height": null,
            "min_width": null,
            "object_fit": null,
            "object_position": null,
            "order": null,
            "overflow": null,
            "overflow_x": null,
            "overflow_y": null,
            "padding": null,
            "right": null,
            "top": null,
            "visibility": null,
            "width": null
          }
        },
        "499d9aeaee594a709e2132b30098c0a4": {
          "model_module": "@jupyter-widgets/controls",
          "model_module_version": "1.5.0",
          "model_name": "FloatProgressModel",
          "state": {
            "_dom_classes": [],
            "_model_module": "@jupyter-widgets/controls",
            "_model_module_version": "1.5.0",
            "_model_name": "FloatProgressModel",
            "_view_count": null,
            "_view_module": "@jupyter-widgets/controls",
            "_view_module_version": "1.5.0",
            "_view_name": "ProgressView",
            "bar_style": "success",
            "description": "",
            "description_tooltip": null,
            "layout": "IPY_MODEL_159e4a76a88147a4b5bac1022986cbde",
            "max": 1,
            "min": 0,
            "orientation": "horizontal",
            "style": "IPY_MODEL_c0d6f88312ef4bf5b5ba7d5ea9734c16",
            "value": 0
          }
        },
        "4b3473c3b9874973b49c32bd8a3515a4": {
          "model_module": "@jupyter-widgets/controls",
          "model_module_version": "1.5.0",
          "model_name": "DescriptionStyleModel",
          "state": {
            "_model_module": "@jupyter-widgets/controls",
            "_model_module_version": "1.5.0",
            "_model_name": "DescriptionStyleModel",
            "_view_count": null,
            "_view_module": "@jupyter-widgets/base",
            "_view_module_version": "1.2.0",
            "_view_name": "StyleView",
            "description_width": ""
          }
        },
        "4e46fd1c414041bda6cd046816384fe9": {
          "model_module": "@jupyter-widgets/controls",
          "model_module_version": "1.5.0",
          "model_name": "FloatProgressModel",
          "state": {
            "_dom_classes": [],
            "_model_module": "@jupyter-widgets/controls",
            "_model_module_version": "1.5.0",
            "_model_name": "FloatProgressModel",
            "_view_count": null,
            "_view_module": "@jupyter-widgets/controls",
            "_view_module_version": "1.5.0",
            "_view_name": "ProgressView",
            "bar_style": "danger",
            "description": "",
            "description_tooltip": null,
            "layout": "IPY_MODEL_9db0340682d04657b127c039ba8dddd5",
            "max": 1,
            "min": 0,
            "orientation": "horizontal",
            "style": "IPY_MODEL_69cd4e728403454e9a9024b6059ca25f",
            "value": 1
          }
        },
        "558a614042eb47a19477233a96e29a86": {
          "model_module": "@jupyter-widgets/controls",
          "model_module_version": "1.5.0",
          "model_name": "HTMLModel",
          "state": {
            "_dom_classes": [],
            "_model_module": "@jupyter-widgets/controls",
            "_model_module_version": "1.5.0",
            "_model_name": "HTMLModel",
            "_view_count": null,
            "_view_module": "@jupyter-widgets/controls",
            "_view_module_version": "1.5.0",
            "_view_name": "HTMLView",
            "description": "",
            "description_tooltip": null,
            "layout": "IPY_MODEL_c7f4785925f6441bbc54c688946590b6",
            "placeholder": "​",
            "style": "IPY_MODEL_687dda1c265c4866ae4dd046e514ff0e",
            "value": " 1000000/? [1:14:41&lt;00:00, 267.39it/s]"
          }
        },
        "58d3fa42e7c04c428e0ceec922514fdc": {
          "model_module": "@jupyter-widgets/controls",
          "model_module_version": "1.5.0",
          "model_name": "DescriptionStyleModel",
          "state": {
            "_model_module": "@jupyter-widgets/controls",
            "_model_module_version": "1.5.0",
            "_model_name": "DescriptionStyleModel",
            "_view_count": null,
            "_view_module": "@jupyter-widgets/base",
            "_view_module_version": "1.2.0",
            "_view_name": "StyleView",
            "description_width": ""
          }
        },
        "687dda1c265c4866ae4dd046e514ff0e": {
          "model_module": "@jupyter-widgets/controls",
          "model_module_version": "1.5.0",
          "model_name": "DescriptionStyleModel",
          "state": {
            "_model_module": "@jupyter-widgets/controls",
            "_model_module_version": "1.5.0",
            "_model_name": "DescriptionStyleModel",
            "_view_count": null,
            "_view_module": "@jupyter-widgets/base",
            "_view_module_version": "1.2.0",
            "_view_name": "StyleView",
            "description_width": ""
          }
        },
        "69cd4e728403454e9a9024b6059ca25f": {
          "model_module": "@jupyter-widgets/controls",
          "model_module_version": "1.5.0",
          "model_name": "ProgressStyleModel",
          "state": {
            "_model_module": "@jupyter-widgets/controls",
            "_model_module_version": "1.5.0",
            "_model_name": "ProgressStyleModel",
            "_view_count": null,
            "_view_module": "@jupyter-widgets/base",
            "_view_module_version": "1.2.0",
            "_view_name": "StyleView",
            "bar_color": null,
            "description_width": ""
          }
        },
        "6ae1ccf6a9ea495d9a3fc21d6a96e489": {
          "model_module": "@jupyter-widgets/controls",
          "model_module_version": "1.5.0",
          "model_name": "DescriptionStyleModel",
          "state": {
            "_model_module": "@jupyter-widgets/controls",
            "_model_module_version": "1.5.0",
            "_model_name": "DescriptionStyleModel",
            "_view_count": null,
            "_view_module": "@jupyter-widgets/base",
            "_view_module_version": "1.2.0",
            "_view_name": "StyleView",
            "description_width": ""
          }
        },
        "7b36ab512560493ba23f58e2d396d60a": {
          "model_module": "@jupyter-widgets/controls",
          "model_module_version": "1.5.0",
          "model_name": "HTMLModel",
          "state": {
            "_dom_classes": [],
            "_model_module": "@jupyter-widgets/controls",
            "_model_module_version": "1.5.0",
            "_model_name": "HTMLModel",
            "_view_count": null,
            "_view_module": "@jupyter-widgets/controls",
            "_view_module_version": "1.5.0",
            "_view_name": "HTMLView",
            "description": "",
            "description_tooltip": null,
            "layout": "IPY_MODEL_0943070ac52a4019af3bdc0131c7651e",
            "placeholder": "​",
            "style": "IPY_MODEL_a2a6986260e74b82b76dafaa1cc1526f",
            "value": " 35548/35548 [00:24&lt;00:00, 1634.92it/s]"
          }
        },
        "83f0f7a28114426f84894c4ef9fd7687": {
          "model_module": "@jupyter-widgets/controls",
          "model_module_version": "1.5.0",
          "model_name": "FloatProgressModel",
          "state": {
            "_dom_classes": [],
            "_model_module": "@jupyter-widgets/controls",
            "_model_module_version": "1.5.0",
            "_model_name": "FloatProgressModel",
            "_view_count": null,
            "_view_module": "@jupyter-widgets/controls",
            "_view_module_version": "1.5.0",
            "_view_name": "ProgressView",
            "bar_style": "success",
            "description": "",
            "description_tooltip": null,
            "layout": "IPY_MODEL_ff116ef6c1e447029c7dd42fa9f13bd3",
            "max": 35548,
            "min": 0,
            "orientation": "horizontal",
            "style": "IPY_MODEL_c83af734efc941c09f635c58cabc4997",
            "value": 35548
          }
        },
        "8f43399809e54ba2b55e25f94f1a9745": {
          "model_module": "@jupyter-widgets/controls",
          "model_module_version": "1.5.0",
          "model_name": "HBoxModel",
          "state": {
            "_dom_classes": [],
            "_model_module": "@jupyter-widgets/controls",
            "_model_module_version": "1.5.0",
            "_model_name": "HBoxModel",
            "_view_count": null,
            "_view_module": "@jupyter-widgets/controls",
            "_view_module_version": "1.5.0",
            "_view_name": "HBoxView",
            "box_style": "",
            "children": [
              "IPY_MODEL_bf1b5dfe66ec4419915d263cc43fa239",
              "IPY_MODEL_4e46fd1c414041bda6cd046816384fe9",
              "IPY_MODEL_558a614042eb47a19477233a96e29a86"
            ],
            "layout": "IPY_MODEL_9ddc46c992414e72a001da633d782f81"
          }
        },
        "9db0340682d04657b127c039ba8dddd5": {
          "model_module": "@jupyter-widgets/base",
          "model_module_version": "1.2.0",
          "model_name": "LayoutModel",
          "state": {
            "_model_module": "@jupyter-widgets/base",
            "_model_module_version": "1.2.0",
            "_model_name": "LayoutModel",
            "_view_count": null,
            "_view_module": "@jupyter-widgets/base",
            "_view_module_version": "1.2.0",
            "_view_name": "LayoutView",
            "align_content": null,
            "align_items": null,
            "align_self": null,
            "border": null,
            "bottom": null,
            "display": null,
            "flex": null,
            "flex_flow": null,
            "grid_area": null,
            "grid_auto_columns": null,
            "grid_auto_flow": null,
            "grid_auto_rows": null,
            "grid_column": null,
            "grid_gap": null,
            "grid_row": null,
            "grid_template_areas": null,
            "grid_template_columns": null,
            "grid_template_rows": null,
            "height": null,
            "justify_content": null,
            "justify_items": null,
            "left": null,
            "margin": null,
            "max_height": null,
            "max_width": null,
            "min_height": null,
            "min_width": null,
            "object_fit": null,
            "object_position": null,
            "order": null,
            "overflow": null,
            "overflow_x": null,
            "overflow_y": null,
            "padding": null,
            "right": null,
            "top": null,
            "visibility": null,
            "width": "20px"
          }
        },
        "9ddc46c992414e72a001da633d782f81": {
          "model_module": "@jupyter-widgets/base",
          "model_module_version": "1.2.0",
          "model_name": "LayoutModel",
          "state": {
            "_model_module": "@jupyter-widgets/base",
            "_model_module_version": "1.2.0",
            "_model_name": "LayoutModel",
            "_view_count": null,
            "_view_module": "@jupyter-widgets/base",
            "_view_module_version": "1.2.0",
            "_view_name": "LayoutView",
            "align_content": null,
            "align_items": null,
            "align_self": null,
            "border": null,
            "bottom": null,
            "display": null,
            "flex": null,
            "flex_flow": null,
            "grid_area": null,
            "grid_auto_columns": null,
            "grid_auto_flow": null,
            "grid_auto_rows": null,
            "grid_column": null,
            "grid_gap": null,
            "grid_row": null,
            "grid_template_areas": null,
            "grid_template_columns": null,
            "grid_template_rows": null,
            "height": null,
            "justify_content": null,
            "justify_items": null,
            "left": null,
            "margin": null,
            "max_height": null,
            "max_width": null,
            "min_height": null,
            "min_width": null,
            "object_fit": null,
            "object_position": null,
            "order": null,
            "overflow": null,
            "overflow_x": null,
            "overflow_y": null,
            "padding": null,
            "right": null,
            "top": null,
            "visibility": null,
            "width": null
          }
        },
        "a2a6986260e74b82b76dafaa1cc1526f": {
          "model_module": "@jupyter-widgets/controls",
          "model_module_version": "1.5.0",
          "model_name": "DescriptionStyleModel",
          "state": {
            "_model_module": "@jupyter-widgets/controls",
            "_model_module_version": "1.5.0",
            "_model_name": "DescriptionStyleModel",
            "_view_count": null,
            "_view_module": "@jupyter-widgets/base",
            "_view_module_version": "1.2.0",
            "_view_name": "StyleView",
            "description_width": ""
          }
        },
        "a3180e92b739489ca0ff03ee55a80623": {
          "model_module": "@jupyter-widgets/base",
          "model_module_version": "1.2.0",
          "model_name": "LayoutModel",
          "state": {
            "_model_module": "@jupyter-widgets/base",
            "_model_module_version": "1.2.0",
            "_model_name": "LayoutModel",
            "_view_count": null,
            "_view_module": "@jupyter-widgets/base",
            "_view_module_version": "1.2.0",
            "_view_name": "LayoutView",
            "align_content": null,
            "align_items": null,
            "align_self": null,
            "border": null,
            "bottom": null,
            "display": null,
            "flex": null,
            "flex_flow": null,
            "grid_area": null,
            "grid_auto_columns": null,
            "grid_auto_flow": null,
            "grid_auto_rows": null,
            "grid_column": null,
            "grid_gap": null,
            "grid_row": null,
            "grid_template_areas": null,
            "grid_template_columns": null,
            "grid_template_rows": null,
            "height": null,
            "justify_content": null,
            "justify_items": null,
            "left": null,
            "margin": null,
            "max_height": null,
            "max_width": null,
            "min_height": null,
            "min_width": null,
            "object_fit": null,
            "object_position": null,
            "order": null,
            "overflow": null,
            "overflow_x": null,
            "overflow_y": null,
            "padding": null,
            "right": null,
            "top": null,
            "visibility": null,
            "width": null
          }
        },
        "a67a6d831c414f0c88cb6ffc474c3faa": {
          "model_module": "@jupyter-widgets/controls",
          "model_module_version": "1.5.0",
          "model_name": "HBoxModel",
          "state": {
            "_dom_classes": [],
            "_model_module": "@jupyter-widgets/controls",
            "_model_module_version": "1.5.0",
            "_model_name": "HBoxModel",
            "_view_count": null,
            "_view_module": "@jupyter-widgets/controls",
            "_view_module_version": "1.5.0",
            "_view_name": "HBoxView",
            "box_style": "",
            "children": [
              "IPY_MODEL_c7b0251b6f5e4036870c15f45b5dac86",
              "IPY_MODEL_83f0f7a28114426f84894c4ef9fd7687",
              "IPY_MODEL_7b36ab512560493ba23f58e2d396d60a"
            ],
            "layout": "IPY_MODEL_c50584cc5cd2485f9f208d642432ef38"
          }
        },
        "b7ca9ee6f62f4c79b897ed33a2587e28": {
          "model_module": "@jupyter-widgets/controls",
          "model_module_version": "1.5.0",
          "model_name": "DescriptionStyleModel",
          "state": {
            "_model_module": "@jupyter-widgets/controls",
            "_model_module_version": "1.5.0",
            "_model_name": "DescriptionStyleModel",
            "_view_count": null,
            "_view_module": "@jupyter-widgets/base",
            "_view_module_version": "1.2.0",
            "_view_name": "StyleView",
            "description_width": ""
          }
        },
        "ba9c64a664a8412d8dcb714d0da885f5": {
          "model_module": "@jupyter-widgets/base",
          "model_module_version": "1.2.0",
          "model_name": "LayoutModel",
          "state": {
            "_model_module": "@jupyter-widgets/base",
            "_model_module_version": "1.2.0",
            "_model_name": "LayoutModel",
            "_view_count": null,
            "_view_module": "@jupyter-widgets/base",
            "_view_module_version": "1.2.0",
            "_view_name": "LayoutView",
            "align_content": null,
            "align_items": null,
            "align_self": null,
            "border": null,
            "bottom": null,
            "display": null,
            "flex": null,
            "flex_flow": null,
            "grid_area": null,
            "grid_auto_columns": null,
            "grid_auto_flow": null,
            "grid_auto_rows": null,
            "grid_column": null,
            "grid_gap": null,
            "grid_row": null,
            "grid_template_areas": null,
            "grid_template_columns": null,
            "grid_template_rows": null,
            "height": null,
            "justify_content": null,
            "justify_items": null,
            "left": null,
            "margin": null,
            "max_height": null,
            "max_width": null,
            "min_height": null,
            "min_width": null,
            "object_fit": null,
            "object_position": null,
            "order": null,
            "overflow": null,
            "overflow_x": null,
            "overflow_y": null,
            "padding": null,
            "right": null,
            "top": null,
            "visibility": null,
            "width": null
          }
        },
        "bec907b048f24cc6a673e1614ab74010": {
          "model_module": "@jupyter-widgets/controls",
          "model_module_version": "1.5.0",
          "model_name": "HTMLModel",
          "state": {
            "_dom_classes": [],
            "_model_module": "@jupyter-widgets/controls",
            "_model_module_version": "1.5.0",
            "_model_name": "HTMLModel",
            "_view_count": null,
            "_view_module": "@jupyter-widgets/controls",
            "_view_module_version": "1.5.0",
            "_view_name": "HTMLView",
            "description": "",
            "description_tooltip": null,
            "layout": "IPY_MODEL_a3180e92b739489ca0ff03ee55a80623",
            "placeholder": "​",
            "style": "IPY_MODEL_58d3fa42e7c04c428e0ceec922514fdc",
            "value": ""
          }
        },
        "bf1b5dfe66ec4419915d263cc43fa239": {
          "model_module": "@jupyter-widgets/controls",
          "model_module_version": "1.5.0",
          "model_name": "HTMLModel",
          "state": {
            "_dom_classes": [],
            "_model_module": "@jupyter-widgets/controls",
            "_model_module_version": "1.5.0",
            "_model_name": "HTMLModel",
            "_view_count": null,
            "_view_module": "@jupyter-widgets/controls",
            "_view_module_version": "1.5.0",
            "_view_name": "HTMLView",
            "description": "",
            "description_tooltip": null,
            "layout": "IPY_MODEL_ba9c64a664a8412d8dcb714d0da885f5",
            "placeholder": "​",
            "style": "IPY_MODEL_b7ca9ee6f62f4c79b897ed33a2587e28",
            "value": ""
          }
        },
        "c0d6f88312ef4bf5b5ba7d5ea9734c16": {
          "model_module": "@jupyter-widgets/controls",
          "model_module_version": "1.5.0",
          "model_name": "ProgressStyleModel",
          "state": {
            "_model_module": "@jupyter-widgets/controls",
            "_model_module_version": "1.5.0",
            "_model_name": "ProgressStyleModel",
            "_view_count": null,
            "_view_module": "@jupyter-widgets/base",
            "_view_module_version": "1.2.0",
            "_view_name": "StyleView",
            "bar_color": null,
            "description_width": ""
          }
        },
        "c124bf68fc02491990545cb6004d97fc": {
          "model_module": "@jupyter-widgets/base",
          "model_module_version": "1.2.0",
          "model_name": "LayoutModel",
          "state": {
            "_model_module": "@jupyter-widgets/base",
            "_model_module_version": "1.2.0",
            "_model_name": "LayoutModel",
            "_view_count": null,
            "_view_module": "@jupyter-widgets/base",
            "_view_module_version": "1.2.0",
            "_view_name": "LayoutView",
            "align_content": null,
            "align_items": null,
            "align_self": null,
            "border": null,
            "bottom": null,
            "display": null,
            "flex": null,
            "flex_flow": null,
            "grid_area": null,
            "grid_auto_columns": null,
            "grid_auto_flow": null,
            "grid_auto_rows": null,
            "grid_column": null,
            "grid_gap": null,
            "grid_row": null,
            "grid_template_areas": null,
            "grid_template_columns": null,
            "grid_template_rows": null,
            "height": null,
            "justify_content": null,
            "justify_items": null,
            "left": null,
            "margin": null,
            "max_height": null,
            "max_width": null,
            "min_height": null,
            "min_width": null,
            "object_fit": null,
            "object_position": null,
            "order": null,
            "overflow": null,
            "overflow_x": null,
            "overflow_y": null,
            "padding": null,
            "right": null,
            "top": null,
            "visibility": null,
            "width": null
          }
        },
        "c50584cc5cd2485f9f208d642432ef38": {
          "model_module": "@jupyter-widgets/base",
          "model_module_version": "1.2.0",
          "model_name": "LayoutModel",
          "state": {
            "_model_module": "@jupyter-widgets/base",
            "_model_module_version": "1.2.0",
            "_model_name": "LayoutModel",
            "_view_count": null,
            "_view_module": "@jupyter-widgets/base",
            "_view_module_version": "1.2.0",
            "_view_name": "LayoutView",
            "align_content": null,
            "align_items": null,
            "align_self": null,
            "border": null,
            "bottom": null,
            "display": null,
            "flex": null,
            "flex_flow": null,
            "grid_area": null,
            "grid_auto_columns": null,
            "grid_auto_flow": null,
            "grid_auto_rows": null,
            "grid_column": null,
            "grid_gap": null,
            "grid_row": null,
            "grid_template_areas": null,
            "grid_template_columns": null,
            "grid_template_rows": null,
            "height": null,
            "justify_content": null,
            "justify_items": null,
            "left": null,
            "margin": null,
            "max_height": null,
            "max_width": null,
            "min_height": null,
            "min_width": null,
            "object_fit": null,
            "object_position": null,
            "order": null,
            "overflow": null,
            "overflow_x": null,
            "overflow_y": null,
            "padding": null,
            "right": null,
            "top": null,
            "visibility": null,
            "width": null
          }
        },
        "c7b0251b6f5e4036870c15f45b5dac86": {
          "model_module": "@jupyter-widgets/controls",
          "model_module_version": "1.5.0",
          "model_name": "HTMLModel",
          "state": {
            "_dom_classes": [],
            "_model_module": "@jupyter-widgets/controls",
            "_model_module_version": "1.5.0",
            "_model_name": "HTMLModel",
            "_view_count": null,
            "_view_module": "@jupyter-widgets/controls",
            "_view_module_version": "1.5.0",
            "_view_name": "HTMLView",
            "description": "",
            "description_tooltip": null,
            "layout": "IPY_MODEL_388ba797fcef49cc9ae57f01467de7f2",
            "placeholder": "​",
            "style": "IPY_MODEL_6ae1ccf6a9ea495d9a3fc21d6a96e489",
            "value": "100%"
          }
        },
        "c7f4785925f6441bbc54c688946590b6": {
          "model_module": "@jupyter-widgets/base",
          "model_module_version": "1.2.0",
          "model_name": "LayoutModel",
          "state": {
            "_model_module": "@jupyter-widgets/base",
            "_model_module_version": "1.2.0",
            "_model_name": "LayoutModel",
            "_view_count": null,
            "_view_module": "@jupyter-widgets/base",
            "_view_module_version": "1.2.0",
            "_view_name": "LayoutView",
            "align_content": null,
            "align_items": null,
            "align_self": null,
            "border": null,
            "bottom": null,
            "display": null,
            "flex": null,
            "flex_flow": null,
            "grid_area": null,
            "grid_auto_columns": null,
            "grid_auto_flow": null,
            "grid_auto_rows": null,
            "grid_column": null,
            "grid_gap": null,
            "grid_row": null,
            "grid_template_areas": null,
            "grid_template_columns": null,
            "grid_template_rows": null,
            "height": null,
            "justify_content": null,
            "justify_items": null,
            "left": null,
            "margin": null,
            "max_height": null,
            "max_width": null,
            "min_height": null,
            "min_width": null,
            "object_fit": null,
            "object_position": null,
            "order": null,
            "overflow": null,
            "overflow_x": null,
            "overflow_y": null,
            "padding": null,
            "right": null,
            "top": null,
            "visibility": null,
            "width": null
          }
        },
        "c83af734efc941c09f635c58cabc4997": {
          "model_module": "@jupyter-widgets/controls",
          "model_module_version": "1.5.0",
          "model_name": "ProgressStyleModel",
          "state": {
            "_model_module": "@jupyter-widgets/controls",
            "_model_module_version": "1.5.0",
            "_model_name": "ProgressStyleModel",
            "_view_count": null,
            "_view_module": "@jupyter-widgets/base",
            "_view_module_version": "1.2.0",
            "_view_name": "StyleView",
            "bar_color": null,
            "description_width": ""
          }
        },
        "e8e3b053fc0f43098b066605a7ca508c": {
          "model_module": "@jupyter-widgets/base",
          "model_module_version": "1.2.0",
          "model_name": "LayoutModel",
          "state": {
            "_model_module": "@jupyter-widgets/base",
            "_model_module_version": "1.2.0",
            "_model_name": "LayoutModel",
            "_view_count": null,
            "_view_module": "@jupyter-widgets/base",
            "_view_module_version": "1.2.0",
            "_view_name": "LayoutView",
            "align_content": null,
            "align_items": null,
            "align_self": null,
            "border": null,
            "bottom": null,
            "display": null,
            "flex": null,
            "flex_flow": null,
            "grid_area": null,
            "grid_auto_columns": null,
            "grid_auto_flow": null,
            "grid_auto_rows": null,
            "grid_column": null,
            "grid_gap": null,
            "grid_row": null,
            "grid_template_areas": null,
            "grid_template_columns": null,
            "grid_template_rows": null,
            "height": null,
            "justify_content": null,
            "justify_items": null,
            "left": null,
            "margin": null,
            "max_height": null,
            "max_width": null,
            "min_height": null,
            "min_width": null,
            "object_fit": null,
            "object_position": null,
            "order": null,
            "overflow": null,
            "overflow_x": null,
            "overflow_y": null,
            "padding": null,
            "right": null,
            "top": null,
            "visibility": null,
            "width": null
          }
        },
        "ff116ef6c1e447029c7dd42fa9f13bd3": {
          "model_module": "@jupyter-widgets/base",
          "model_module_version": "1.2.0",
          "model_name": "LayoutModel",
          "state": {
            "_model_module": "@jupyter-widgets/base",
            "_model_module_version": "1.2.0",
            "_model_name": "LayoutModel",
            "_view_count": null,
            "_view_module": "@jupyter-widgets/base",
            "_view_module_version": "1.2.0",
            "_view_name": "LayoutView",
            "align_content": null,
            "align_items": null,
            "align_self": null,
            "border": null,
            "bottom": null,
            "display": null,
            "flex": null,
            "flex_flow": null,
            "grid_area": null,
            "grid_auto_columns": null,
            "grid_auto_flow": null,
            "grid_auto_rows": null,
            "grid_column": null,
            "grid_gap": null,
            "grid_row": null,
            "grid_template_areas": null,
            "grid_template_columns": null,
            "grid_template_rows": null,
            "height": null,
            "justify_content": null,
            "justify_items": null,
            "left": null,
            "margin": null,
            "max_height": null,
            "max_width": null,
            "min_height": null,
            "min_width": null,
            "object_fit": null,
            "object_position": null,
            "order": null,
            "overflow": null,
            "overflow_x": null,
            "overflow_y": null,
            "padding": null,
            "right": null,
            "top": null,
            "visibility": null,
            "width": null
          }
        }
      }
    },
    "accelerator": "GPU"
  },
  "nbformat": 4,
  "nbformat_minor": 0
}